{
 "cells": [
  {
   "cell_type": "code",
   "execution_count": null,
   "metadata": {
    "slideshow": {
     "slide_type": "slide"
    }
   },
   "outputs": [],
   "source": [
    "# no need to import smtplib for this code\n",
    "# no need to import time for this code\n",
    "import imaplib\n",
    "import email\n",
    "import os\n",
    "import webbrowser\n",
    "import glob\n",
    "import pandas as pd\n",
    "from pyquery import PyQuery as pq   \n",
    "from bs4 import BeautifulSoup\n",
    "import re\n",
    "import getpass\n",
    "\n",
    "mail = imaplib.IMAP4_SSL('imap.gmail.com')\n",
    "username = input('Enter your username :')\n",
    "password = print('Enter your password below :')\n",
    "password = getpass.getpass()\n",
    "mail.login(username, password)\n",
    "print ('\\n')\n",
    "#print ('====================================================================================================')\n",
    "mail.select('inbox')\n"
   ]
  },
  {
   "cell_type": "code",
   "execution_count": null,
   "metadata": {
    "slideshow": {
     "slide_type": "subslide"
    }
   },
   "outputs": [],
   "source": [
    "result, data = mail.search(None, 'ALL')\n",
    "mail_ids = data[0]\n",
    "list1 = []\n",
    "list2 = []\n",
    "list3 = []\n",
    "list4 = []\n",
    "list5 = []\n",
    "list6 = []\n",
    "list7 = []\n",
    "list8 = []\n",
    "list9 = []\n",
    "list10 = []\n",
    "list11 = []\n",
    "list12 = []\n",
    "list13 = []\n",
    "list14 = []"
   ]
  },
  {
   "cell_type": "code",
   "execution_count": null,
   "metadata": {
    "slideshow": {
     "slide_type": "subslide"
    }
   },
   "outputs": [],
   "source": [
    "id_list = mail_ids.split()   \n",
    "first_email_id = int(id_list[0])\n",
    "latest_email_id = int(id_list[-1])"
   ]
  },
  {
   "cell_type": "code",
   "execution_count": null,
   "metadata": {
    "slideshow": {
     "slide_type": "subslide"
    }
   },
   "outputs": [],
   "source": [
    "for i in range(latest_email_id,first_email_id, -1):\n",
    "    # need str(i)\n",
    "    result, data = mail.fetch(str(i), '(RFC822)' )\n",
    "\n",
    "    for response_part in data:\n",
    "        if isinstance(response_part, tuple):\n",
    "            # from_bytes, not from_string\n",
    "            msg = email.message_from_bytes(response_part[1])\n",
    "\n",
    "            #different parts of the email\n",
    "            email_subject = msg['subject']\n",
    "\n",
    "\n",
    "            x = msg['from']\n",
    "            y = x.find('<')\n",
    "            email_from = x[y+1:-1]\n",
    "            email_received = msg['received'] \n",
    "            email_date = msg['date']\n",
    "\n",
    "            value = msg['DKIM-Signature']\n",
    "            email_DKIM = 'Na' if value is None else value\n",
    "\n",
    "            value2 = msg['received-SPF']"
   ]
  },
  {
   "cell_type": "code",
   "execution_count": null,
   "metadata": {
    "slideshow": {
     "slide_type": "subslide"
    }
   },
   "outputs": [],
   "source": [
    " #picking up the client ip from the SPF\n",
    "            #answer = value2.find('client-ip')\n",
    "\n",
    "            email_SPF = 'Na' if value2 is None else value2[:4]\n",
    "\n",
    "            if email_SPF == 'Na':\n",
    "                value3 = 'Na'\n",
    "            else:\n",
    "                answer = value2.find('client-ip')\n",
    "                value3 = value2[answer+10:-1]\n",
    "\n",
    "            email_IP = 'Na' if value3 is None else value3\n",
    "            \n",
    "            email_ID = msg['Message-ID']\n",
    "            email_return_path = msg['Return-Path']\n",
    "            email_reply_to = msg['Reply-to']\n",
    "            email_auth_res = msg['Authentication-Results']\n",
    "            email_mailed_by = msg['mailed-by']"
   ]
  },
  {
   "cell_type": "code",
   "execution_count": null,
   "metadata": {
    "slideshow": {
     "slide_type": "subslide"
    }
   },
   "outputs": [],
   "source": [
    "# CHECKING SPAM STATUS USING https://matrix.spfbl.net/\n",
    "            \n",
    "            url = \"https://matrix.spfbl.net/{name}\"\n",
    "            string = 'flagged'\n",
    "            string2 = 'bulk'\n",
    "            string3 = 'clean'\n",
    "            response = pq(url=url.format(name=str(email_IP)))\n",
    "            response = str(response)\n",
    "            soup = BeautifulSoup(response, 'html.parser')\n",
    "            if  bool(soup.body.find_all(string=re.compile('.*{0}.*'.format(string)), recursive=True)) == True:\n",
    "                spam_status = soup.body.find_all(string=re.compile('.*{0}.*'.format(string)), recursive=True)\n",
    "                print (spam_status)\n",
    "                list13.append(spam_status)\n",
    "            elif bool(soup.body.find_all(string=re.compile('.*{0}.*'.format(string2)), recursive=True)) == True: \n",
    "                spam_status = soup.body.find_all(string=re.compile('.*{0}.*'.format(string2)), recursive=True)\n",
    "                print(spam_status)\n",
    "                list13.append(spam_status)\n",
    "            elif bool(soup.body.find_all(string=re.compile('.*{0}.*'.format(string3)), recursive=True)) == True:\n",
    "                spam_status = soup.body.find_all(string=re.compile('.*{0}.*'.format(string3)), recursive=True)\n",
    "                print (spam_status)\n",
    "                list13.append(spam_status)\n",
    "            else:\n",
    "                #spam_status = str'No given status. Check the website ' + url + ' for more information.'\n",
    "                print (spam_status)\n",
    "                #list13+=spam_status\n"
   ]
  },
  {
   "cell_type": "code",
   "execution_count": null,
   "metadata": {
    "slideshow": {
     "slide_type": "subslide"
    }
   },
   "outputs": [],
   "source": [
    " #CHECKING SPAM STATUS USING zen.spamhaus.org\n",
    "            \n",
    "            import dns.resolver\n",
    "            bl = \"zen.spamhaus.org\"\n",
    "            myIP = email_IP\n",
    "\n",
    "            try:\n",
    "                my_resolver = dns.resolver.Resolver() #create a new resolver\n",
    "                query = '.'.join(reversed(str(myIP).split(\".\"))) + \".\" + bl #convert 144.76.252.9 to 9.252.76.144.zen.spamhaus.org\n",
    "                answers = my_resolver.query(query, \"A\") #perform a record lookup. A failure will trigger the NXDOMAIN exception\n",
    "                answer_txt = my_resolver.query(query, \"TXT\") #No exception was triggered, IP is listed in bl. Now get TXT record\n",
    "                status = 'IP: %s IS listed in %s (%s: %s)' %(myIP, bl, answers[0], answer_txt[0])\n",
    "                print ('IP: %s IS listed in %s (%s: %s)' %(myIP, bl, answers[0], answer_txt[0]))\n",
    "                list14.append(status)\n",
    "            except dns.resolver.NXDOMAIN:\n",
    "                status = 'IP: %s is NOT listed in %s' %(myIP, bl)\n",
    "                print ('IP: %s is NOT listed in %s' %(myIP, bl))\n",
    "                list14.append(status)\n"
   ]
  },
  {
   "cell_type": "code",
   "execution_count": null,
   "metadata": {
    "slideshow": {
     "slide_type": "subslide"
    }
   },
   "outputs": [],
   "source": [
    " #printing and storing them in a list                 \n",
    "            #print ('From : ' + email_from )\n",
    "            list1.append(email_from)\n",
    "            #print ('Subject : ' + email_subject)\n",
    "            list2.append(email_subject)\n",
    "            #print ('Date :' + email_date)\n",
    "            list3.append(email_date)\n",
    "            #print ('Received : ' + email_received)\n",
    "            list4.append(email_received)\n",
    "            #print ('DKIM-Signature : ' + email_DKIM)\n",
    "            list5.append(email_DKIM)\n",
    "            #print ('SPF : ' + email_SPF)\n",
    "            list6.append(email_SPF)\n",
    "            print ('IP from where it was sent : ' + email_IP)\n",
    "            list7.append(email_IP)\n",
    "            #print ('Message ID : ' + str(email_ID))\n",
    "            list8.append(email_ID)\n",
    "            #print('Return-Path :' + email_return_path)\n",
    "            list9.append(email_ID)\n",
    "            #print(email_reply_to)\n",
    "            list10.append(email_reply_to)\n",
    "            #print(email_auth_res)\n",
    "            list11.append(email_auth_res)\n",
    "            #print ('Return-Path : ' + email_return_path)\n",
    "            #print ('Reply to : ' + email_reply_to)\n",
    "            #print(email_mailed_by)"
   ]
  },
  {
   "cell_type": "code",
   "execution_count": null,
   "metadata": {
    "slideshow": {
     "slide_type": "subslide"
    }
   },
   "outputs": [],
   "source": [
    "if msg.is_multipart():\n",
    "            # iterate over email parts\n",
    "                for part in msg.walk():\n",
    "                    # extract content type of email\n",
    "                    content_type = part.get_content_type()\n",
    "                    content_disposition = str(part.get(\"Content-Disposition\"))\n",
    "                    try:\n",
    "                        # get the email body\n",
    "                        body = part.get_payload(decode=True).decode()\n",
    "                    except:\n",
    "                        pass\n",
    "                    if content_type == \"text/plain\" and \"attachment\" not in content_disposition:\n",
    "                        # print text/plain emails and skip attachments\n",
    "                        #print('Body :' + '\\n' + body)\n",
    "                        list12.append(body)\n",
    "                    elif \"attachment\" in content_disposition:\n",
    "                        # download attachment\n",
    "                        filename = part.get_filename()\n",
    "                        if filename:\n",
    "                            if not os.path.isdir(email_subject):\n",
    "                                # make a folder for this email (named after the subject)\n",
    "                                os.mkdir(email_subject)\n",
    "                            filepath = os.path.join(email_subject, filename)\n",
    "                            # download attachment and save it\n",
    "                            open(filepath, \"wb\").write(part.get_payload(decode=True))"
   ]
  },
  {
   "cell_type": "code",
   "execution_count": null,
   "metadata": {
    "slideshow": {
     "slide_type": "subslide"
    }
   },
   "outputs": [],
   "source": [
    "else:\n",
    "                # extract content type of email\n",
    "                content_type = msg.get_content_type()\n",
    "                # get the email body\n",
    "                body = msg.get_payload(decode=True).decode()\n",
    "                if content_type == \"text/plain\":\n",
    "                    # print only text email parts\n",
    "                    #print('Body :' + '\\n' + body)\n",
    "                    list12.append(body)\n",
    "            if content_type == \"text/html\":\n",
    "                # if it's HTML, create a new HTML file and open it in browser\n",
    "                if not os.path.isdir(email_subject):\n",
    "                    # make a folder for this email (named after the subject)\n",
    "                    os.mkdir(email_subject)\n",
    "                filename = \"f{subject[:50]}.html\"\n",
    "                filepath = os.path.join(email_subject, filename)\n",
    "                # write the file\n",
    "                open(filepath, \"w\").write(body)\n",
    "                # open in the default browser\n",
    "                webbrowser.open(filepath)\n",
    "            print(\"=\"*100)\n",
    "            #print ('=================================================================================================================' + '\\n')            "
   ]
  },
  {
   "cell_type": "code",
   "execution_count": null,
   "metadata": {
    "slideshow": {
     "slide_type": "subslide"
    }
   },
   "outputs": [],
   "source": [
    "#print (list1)\n",
    "df1 = pd.DataFrame(list1)\n",
    "df1.to_csv('list1')\n",
    "# print(df1)\n",
    "\n",
    "df2 = pd.DataFrame(list2)\n",
    "df2.to_csv('list2')\n",
    "#print(df2)\n",
    "\n",
    "df3 = pd.DataFrame(list3)\n",
    "df3.to_csv('list3')\n",
    "#print(df3)\n",
    "\n",
    "df4 = pd.DataFrame(list4)\n",
    "df4.to_csv('list4')\n",
    "#print(df4)\n",
    "\n",
    "df5 = pd.DataFrame(list5)\n",
    "df5.to_csv('list5')\n",
    "#print(df5)\n",
    "\n",
    "df6 = pd.DataFrame(list6)\n",
    "df6.to_csv('list6')\n",
    "#print(df6)\n"
   ]
  },
  {
   "cell_type": "code",
   "execution_count": null,
   "metadata": {
    "slideshow": {
     "slide_type": "subslide"
    }
   },
   "outputs": [],
   "source": [
    "df7 = pd.DataFrame(list7)\n",
    "df7.to_csv('list7')\n",
    "#print(df7)\n",
    "\n",
    "df8 = pd.DataFrame(list8)\n",
    "df8.to_csv('list8')\n",
    "#print(df8)\n",
    "\n",
    "df9 = pd.DataFrame(list9)\n",
    "df9.to_csv('list9')\n",
    "#print(df9)\n",
    "\n",
    "df10 = pd.DataFrame(list10)\n",
    "df10.to_csv('list10')\n",
    "#print(df10)\n",
    "\n",
    "df11 = pd.DataFrame(list11)\n",
    "df11.to_csv('list11')\n",
    "#print(df11)\n",
    "\n",
    "df12 = pd.DataFrame(list12)\n",
    "df12.to_csv('list12')\n",
    "#print(df12)\n",
    "\n",
    "df13 = pd.DataFrame(list13)\n",
    "df13.to_csv('list13')\n",
    "#print(df13)\n",
    "\n",
    "df14 = pd.DataFrame(list14)\n",
    "df14.to_csv('list14')\n",
    "#print(df14)\n"
   ]
  },
  {
   "cell_type": "code",
   "execution_count": null,
   "metadata": {
    "slideshow": {
     "slide_type": "subslide"
    }
   },
   "outputs": [],
   "source": [
    "column = pd.concat([df13, df14, df1, df7, df2, df3, df4, df5, df6, df8, df9, df10, df11], axis=1)\n",
    "#print (column)\n",
    "\n",
    "column.to_csv('output.csv', index = False)\n",
    "\n",
    "dF = pd.read_csv('output.csv')\n",
    "#DF = dF.fillna('No information available. Kindly visit the website')\n",
    "print (dF)\n",
    "\n",
    "dF.columns = ['SPAM_STATUS_FROM_\\'matrix.spfbl.net\\'', 'SPAM_STATUS_FROM_\\'zen.spamhaus.org\\'', 'FROM', 'IP_ADDRESS', 'SUBJECT','DATE_AND_TIME',\n",
    "             'RECEIVED','DKIM_SIGNATURE','SPF_STATUS', 'MESSAGE_ID', 'RETURN_PATH', 'REPLY_TO', 'AUTHENTICATION_RESULTS']\n",
    "\n",
    "dF['SPAM_STATUS_FROM_\\'matrix.spfbl.net\\''] = dF['SPAM_STATUS_FROM_\\'matrix.spfbl.net\\''].fillna(value='No information available. Visit https://matrix.spfbl.net/ for more information.')\n"
   ]
  },
  {
   "cell_type": "code",
   "execution_count": 9,
   "metadata": {
    "slideshow": {
     "slide_type": "slide"
    }
   },
   "outputs": [
    {
     "name": "stdout",
     "output_type": "stream",
     "text": [
      "\tBelow is the frequency bar chart of the emails that have been received from individual emails\n",
      "\n"
     ]
    },
    {
     "data": {
      "text/plain": [
       "<matplotlib.axes._subplots.AxesSubplot at 0x115cc9f90>"
      ]
     },
     "execution_count": 9,
     "metadata": {},
     "output_type": "execute_result"
    },
    {
     "data": {
      "image/png": "[encoded data removed]",
      "text/plain": [
       "<Figure size 432x288 with 1 Axes>"
      ]
     },
     "metadata": {
      "needs_background": "light"
     },
     "output_type": "display_data"
    }
   ],
   "source": [
    "import matplotlib.pyplot as plt\n",
    "import numpy as np\n",
    "        \n",
    "print (\"\\tBelow is the frequency bar chart of the emails that have been received from individual emails\" + '\\n')\n",
    "dF['SPAM_STATUS_FROM_\\'matrix.spfbl.net\\''].value_counts().plot(kind='barh')\n"
   ]
  },
  {
   "cell_type": "code",
   "execution_count": 10,
   "metadata": {
    "slideshow": {
     "slide_type": "slide"
    }
   },
   "outputs": [
    {
     "name": "stdout",
     "output_type": "stream",
     "text": [
      "\tBelow is the frequency histogram of the emails that have been received from IP addresses\n",
      "\n"
     ]
    },
    {
     "data": {
      "text/plain": [
       "<matplotlib.axes._subplots.AxesSubplot at 0x115d59350>"
      ]
     },
     "execution_count": 10,
     "metadata": {},
     "output_type": "execute_result"
    },
    {
     "data": {
      "image/png": "[encoded data removed]",
      "text/plain": [
       "<Figure size 432x288 with 1 Axes>"
      ]
     },
     "metadata": {
      "needs_background": "light"
     },
     "output_type": "display_data"
    }
   ],
   "source": [
    "print (\"\\tBelow is the frequency histogram of the emails that have been received from IP addresses\" + '\\n')\n",
    "dF['SPAM_STATUS_FROM_\\'matrix.spfbl.net\\''].value_counts().plot(kind='barh')"
   ]
  },
  {
   "cell_type": "code",
   "execution_count": 11,
   "metadata": {
    "slideshow": {
     "slide_type": "slide"
    }
   },
   "outputs": [
    {
     "data": {
      "image/png": "[encoded data removed]",
      "text/plain": [
       "<Figure size 432x288 with 1 Axes>"
      ]
     },
     "metadata": {
      "needs_background": "light"
     },
     "output_type": "display_data"
    }
   ],
   "source": [
    "import seaborn as sns\n",
    "p = sns.countplot(data=dF, y = 'FROM')"
   ]
  },
  {
   "cell_type": "code",
   "execution_count": 12,
   "metadata": {
    "slideshow": {
     "slide_type": "slide"
    }
   },
   "outputs": [
    {
     "data": {
      "image/png": "[encoded data removed]",
      "text/plain": [
       "<Figure size 432x288 with 1 Axes>"
      ]
     },
     "metadata": {
      "needs_background": "light"
     },
     "output_type": "display_data"
    }
   ],
   "source": [
    "p = sns.countplot(data=dF, y = 'FROM', palette ='Set3')"
   ]
  },
  {
   "cell_type": "code",
   "execution_count": 13,
   "metadata": {
    "slideshow": {
     "slide_type": "slide"
    }
   },
   "outputs": [
    {
     "data": {
      "image/png": "[encoded data removed]",
      "text/plain": [
       "<Figure size 432x288 with 1 Axes>"
      ]
     },
     "metadata": {
      "needs_background": "light"
     },
     "output_type": "display_data"
    }
   ],
   "source": [
    "p = sns.countplot(data=dF, y = 'SPAM_STATUS_FROM_\\'matrix.spfbl.net\\'', palette ='Set2')"
   ]
  },
  {
   "cell_type": "code",
   "execution_count": 14,
   "metadata": {
    "slideshow": {
     "slide_type": "slide"
    }
   },
   "outputs": [
    {
     "data": {
      "image/png": "[encoded data removed]",
      "text/plain": [
       "<Figure size 432x288 with 1 Axes>"
      ]
     },
     "metadata": {
      "needs_background": "light"
     },
     "output_type": "display_data"
    }
   ],
   "source": [
    "p = sns.countplot(data=dF, y = 'FROM', palette ='gray', facecolor=(0, 0, 0, 0),\n",
    "                   linewidth=5,\n",
    "                   edgecolor=sns.color_palette(\"dark\", 3))"
   ]
  },
  {
   "cell_type": "code",
   "execution_count": null,
   "metadata": {
    "slideshow": {
     "slide_type": "skip"
    }
   },
   "outputs": [],
   "source": [
    "# geo lookup against IP addresses\n",
    "# ip's that are outside the normal domain\n",
    "# new domain\n",
    "# mutiple domains sending same/similiar subjects \n",
    "    #headers are same, but multiple subjects\n",
    "# same ISP, sending a bunch of emails\n",
    "# username spoofing\n",
    "# domain spoofing\n",
    "# screen record\n",
    "    # blockwise explanation of code\n",
    "    # output explain\n",
    "    # automation in the future\n",
    "    # saving graphs and document which is timestamped\n",
    "    # "
   ]
  }
 ],
 "metadata": {
  "kernelspec": {
   "display_name": "Python 3",
   "language": "python",
   "name": "python3"
  },
  "language_info": {
   "codemirror_mode": {
    "name": "ipython",
    "version": 3
   },
   "file_extension": ".py",
   "mimetype": "text/x-python",
   "name": "python",
   "nbconvert_exporter": "python",
   "pygments_lexer": "ipython3",
   "version": "3.7.6"
  },
  "widgets": {
   "application/vnd.jupyter.widget-state+json": {
    "state": {},
    "version_major": 2,
    "version_minor": 0
   }
  }
 },
 "nbformat": 4,
 "nbformat_minor": 4
}
